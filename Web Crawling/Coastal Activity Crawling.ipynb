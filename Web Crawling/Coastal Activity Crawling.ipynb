{
 "cells": [
  {
   "cell_type": "code",
   "execution_count": 1,
   "id": "aa7faad0-c2ca-4730-8232-2ad1114380bc",
   "metadata": {},
   "outputs": [],
   "source": [
    "import os\n",
    "import sys\n",
    "import re\n",
    "import time\n",
    "\n",
    "from datetime import datetime\n",
    "from tqdm import tqdm_notebook\n",
    "\n",
    "import pandas as pd\n",
    "\n",
    "import warnings\n",
    "warnings.filterwarnings(action = 'ignore')\n",
    "\n",
    "from selenium import webdriver\n",
    "from selenium.webdriver.support.select import Select\n",
    "from bs4 import BeautifulSoup"
   ]
  },
  {
   "cell_type": "markdown",
   "id": "d9fae7c0-7140-47fd-9fd2-6817b470043a",
   "metadata": {},
   "source": [
    "---"
   ]
  },
  {
   "cell_type": "markdown",
   "id": "402e88a5-63e0-4e1d-b103-fd4a45c482c1",
   "metadata": {},
   "source": [
    "# 1. 연도별 데이터 수집"
   ]
  },
  {
   "cell_type": "code",
   "execution_count": 2,
   "id": "290271e4-f402-4daf-9560-54e2618987cd",
   "metadata": {},
   "outputs": [],
   "source": [
    "# 추출한 데이터를 사용자가 지정한 경로와 파일명으로 저장해주는 함수 생성\n",
    "def data_save(gwang_data = None, gwanhal_data = None, PATH = None, gwang_file_name = None, gwanhal_file_name = None):\n",
    "    \n",
    "    '''\n",
    "    Function Description\n",
    "    --------------------------------------------------------------------------------------------------------\n",
    "    gwang_data : pd.DataFrame 형태의 광역시도 데이터를 입력해주면 됩니다.\n",
    "    \n",
    "    gwanhal_data : pd.DataFrame 형태의 관할서 데이터를 입력해주면 됩니다.\n",
    "    \n",
    "    PATH : 데이터를 저장할 경로를 입력해주면 됩니다.(ex: './data')\n",
    "    \n",
    "    gwang_file_name : 저장할 광역시도 데이터의 이름을 확장자명을 포함해 입력해주면 됩니다.(ex: '광역시도데이터.csv')\n",
    "    \n",
    "    gwanhal_file_name : 저장할 관할서 데이터의 이름을 확장자명을 포함해 입력해주면 됩니다.(ex: '관할서데이터.csv')\n",
    "    '''\n",
    "    gwang_data.to_csv(PATH + '/' + gwang_file_name, encoding = 'CP949', index = False)\n",
    "    gwanhal_data.to_csv(PATH + '/' + gwanhal_file_name, encoding = 'CP949', index = False)\n",
    "\n",
    "# 연안체험활동현황의 '연안체험활동통계' 정보를 크롤링 해주는 함수 생성\n",
    "def coastal_activity_crawling(start_date = None, end_date = None):\n",
    "    \n",
    "    '''\n",
    "    Function Description\n",
    "    --------------------------------------------------------------------------------------------------------\n",
    "    start_date : 데이터를 수집할 시작 일자를 지정해주면 됩니다.(ex: '2017-01-01')\n",
    "    \n",
    "    end_date : 데이터를 수집할 마지막 일자를 지정해주면 됩니다.(ex: '2017-12-31')\n",
    "    \n",
    "    Caution\n",
    "    --------------------------------------------------------------------------------------------------------\n",
    "    chromedriver.exe 파일은 현재 파이썬 코드가 실행되는 위치에 저장이 되어있어야 합니다.\n",
    "    \n",
    "    [버전 일치 문제 발생시 참고 사이트]\n",
    "    https://blog.naver.com/kiddwannabe/221539689821\n",
    "    '''\n",
    "    # Selenium 옵션 생성\n",
    "    options = webdriver.ChromeOptions()\n",
    "    \n",
    "    # 크롬 창을 생성하지 않도 수행할 수 있는 옵션 지정\n",
    "    options.add_argument('headless')\n",
    "    \n",
    "    # Chrome Driver 파일이 현재 작업하고 있는 경로에 저장되어 있다는 가정 하에 수행\n",
    "    driver = webdriver.Chrome(executable_path = './chromedriver.exe', options = options)\n",
    "    \n",
    "    # 연안체험활동현황 홈페이지\n",
    "    driver.get('https://imsm.kcg.go.kr/CSMS/main/sta/StaSttusRB.do')\n",
    "    time.sleep(1)\n",
    "    \n",
    "    #---------------------------------------------------------------------------------------------------------------\n",
    "    ## 광역시도별 데이터 수집\n",
    "    #---------------------------------------------------------------------------------------------------------------\n",
    "    select = Select(driver.find_element_by_id('searchCondition'))\n",
    "    select.select_by_visible_text('광역시도별')\n",
    "    \n",
    "    # 일자 선택\n",
    "    driver.find_element_by_id('searchKeywordFrom').send_keys(start_date)\n",
    "    driver.find_element_by_id('searchKeywordTo').send_keys(end_date)\n",
    "    \n",
    "    # '검색' 버튼 클릭\n",
    "    element = driver.find_element_by_xpath('//*[@id=\"staSttus\"]/section/div[2]/table/tbody/tr[2]/td/div/button')\n",
    "    element.click()\n",
    "    time.sleep(1)\n",
    "    \n",
    "    # 화면에 출력된 페이지 소스 저장\n",
    "    source = driver.page_source\n",
    "    soup = BeautifulSoup(source, 'html.parser')\n",
    "    \n",
    "    # 변수명과 값을 저장하기 위한 리스트 객체 생성\n",
    "    columns_list = []\n",
    "    value_list = []\n",
    "    \n",
    "    # 추출하고자 하는 정보는 <tbody id='acdntList'> 태그의 아래 <tr> 태그에 포함되어 있다.\n",
    "    for index, tag in enumerate(soup.select('#acdntList > tr')):\n",
    "        \n",
    "        # 인덱스가 0인 경우에는 변수명에 해당된다.\n",
    "        if index == 0:\n",
    "            for td_tag in tag.find_all('td'):\n",
    "                columns_list.append(td_tag.get_text())\n",
    "        \n",
    "        # 그 외의 경우에는 값에 해당된다.\n",
    "        else:\n",
    "            value_list.append([td_tag.get_text().strip() for td_tag in tag.find_all('td')])\n",
    "    \n",
    "    # 광역시도 데이터 생성\n",
    "    gwang_data = pd.DataFrame(data = value_list, columns = columns_list)\n",
    "    \n",
    "    #---------------------------------------------------------------------------------------------------------------\n",
    "    ## 관할서별 데이터 수집\n",
    "    #---------------------------------------------------------------------------------------------------------------\n",
    "    select = Select(driver.find_element_by_id('searchCondition'))\n",
    "    select.select_by_visible_text('관할서별')\n",
    "    \n",
    "    # 일자 선택\n",
    "    driver.find_element_by_id('searchKeywordFrom').send_keys(start_date)\n",
    "    driver.find_element_by_id('searchKeywordTo').send_keys(end_date)\n",
    "    \n",
    "    # '검색' 버튼 클릭\n",
    "    element = driver.find_element_by_xpath('//*[@id=\"staSttus\"]/section/div[2]/table/tbody/tr[2]/td/div/button')\n",
    "    element.click()\n",
    "    time.sleep(1)\n",
    "    \n",
    "    # 화면에 출력된 페이지 소스 저장\n",
    "    source = driver.page_source\n",
    "    soup = BeautifulSoup(source, 'html.parser')\n",
    "    \n",
    "    # 변수명과 값을 저장하기 위한 리스트 객체 생성\n",
    "    columns_list = []\n",
    "    value_list = []\n",
    "    \n",
    "    # 추출하고자 하는 정보는 <tbody id='acdntList'> 태그의 아래 <tr> 태그에 포함되어 있다.\n",
    "    for index, tag in enumerate(soup.select('#acdntList > tr')):\n",
    "        \n",
    "        # 인덱스가 0인 경우에는 변수명에 해당된다.\n",
    "        if index == 0:\n",
    "            for td_tag in tag.find_all('td'):\n",
    "                columns_list.append(td_tag.get_text())\n",
    "        \n",
    "        # 그 외의 경우에는 값에 해당된다.\n",
    "        else:\n",
    "            value_list.append([td_tag.get_text().strip() for td_tag in tag.find_all('td')])\n",
    "    \n",
    "    # 관할서 데이터 생성\n",
    "    gwanhal_data = pd.DataFrame(data = value_list, columns = columns_list)\n",
    "    \n",
    "    # 모든 데이터가 생성되었으므로 Chrome Driver 종료\n",
    "    driver.close()\n",
    "    \n",
    "    #---------------------------------------------------------------------------------------------------------------\n",
    "    # 생성한 데이터 저장하기\n",
    "    #---------------------------------------------------------------------------------------------------------------\n",
    "    PATH = input('파일을 저장할 경로를 입력해주세요.(ex: ./공공데이터/data) :'); print()\n",
    "    gwang_file_name = input('저장할 광역시도 데이터의 이름을 확장자명을 포함해 입력해주세요.(ex: 저장데이터.csv) :'); print()\n",
    "    gwanhal_file_name = input('저장할 관할서 데이터의 이름을 확장자명을 포함해 입력해주세요.(ex: 저장데이터.csv) :')\n",
    "    \n",
    "    data_save(gwang_data = gwang_data, gwanhal_data = gwanhal_data, PATH = PATH, gwang_file_name = gwang_file_name, gwanhal_file_name = gwanhal_file_name)"
   ]
  },
  {
   "cell_type": "code",
   "execution_count": 6,
   "id": "4d0765d2-0311-42f6-b94d-6012c7ee2718",
   "metadata": {},
   "outputs": [
    {
     "name": "stdin",
     "output_type": "stream",
     "text": [
      "파일을 저장할 경로를 입력해주세요.(ex: ./공공데이터/data) : C:/Users/KCG/Desktop/새 폴더\n"
     ]
    },
    {
     "name": "stdout",
     "output_type": "stream",
     "text": [
      "\n"
     ]
    },
    {
     "name": "stdin",
     "output_type": "stream",
     "text": [
      "저장할 광역시도 데이터의 이름을 확장자명을 포함해 입력해주세요.(ex: 저장데이터.csv) : 2017년 해양경찰청_광역시도별 연안체험활동 활동인원 통계.csv\n"
     ]
    },
    {
     "name": "stdout",
     "output_type": "stream",
     "text": [
      "\n"
     ]
    },
    {
     "name": "stdin",
     "output_type": "stream",
     "text": [
      "저장할 관할서 데이터의 이름을 확장자명을 포함해 입력해주세요.(ex: 저장데이터.csv) : 2017년 해양경찰청_관할서별 연안체험활동 활동인원 통계.csv\n"
     ]
    }
   ],
   "source": [
    "coastal_activity_crawling(start_date = '2017-01-01', end_date = '2017-12-31')"
   ]
  },
  {
   "cell_type": "code",
   "execution_count": 3,
   "id": "4ea90e04-7936-4b35-a8c1-41ac8e0a2d65",
   "metadata": {},
   "outputs": [
    {
     "name": "stdin",
     "output_type": "stream",
     "text": [
      "파일을 저장할 경로를 입력해주세요.(ex: ./공공데이터/data) : C:/Users/KCG/Desktop/KCG/Crawling/SaveData\n"
     ]
    },
    {
     "name": "stdout",
     "output_type": "stream",
     "text": [
      "\n"
     ]
    },
    {
     "name": "stdin",
     "output_type": "stream",
     "text": [
      "저장할 광역시도 데이터의 이름을 확장자명을 포함해 입력해주세요.(ex: 저장데이터.csv) : 2021년 해양경찰청_광역시도별 연안체험활동 활동인원 통계.csv\n"
     ]
    },
    {
     "name": "stdout",
     "output_type": "stream",
     "text": [
      "\n"
     ]
    },
    {
     "name": "stdin",
     "output_type": "stream",
     "text": [
      "저장할 관할서 데이터의 이름을 확장자명을 포함해 입력해주세요.(ex: 저장데이터.csv) : 2021년 해양경찰청_관할서별 연안체험활동 활동인원 통계.csv\n"
     ]
    }
   ],
   "source": [
    "coastal_activity_crawling(start_date = '2021-01-01', end_date = '2021-12-31')"
   ]
  },
  {
   "cell_type": "markdown",
   "id": "73d412f9-f26d-4dc1-8607-a42a530995e4",
   "metadata": {},
   "source": [
    "---"
   ]
  },
  {
   "cell_type": "markdown",
   "id": "7ff9dc79-6150-4351-9164-a83b74c19237",
   "metadata": {},
   "source": [
    "# 2. 일별 데이터 수집"
   ]
  },
  {
   "cell_type": "code",
   "execution_count": 2,
   "id": "9a4d2328-cfc0-4ee2-9bf1-03b90d2406ce",
   "metadata": {},
   "outputs": [],
   "source": [
    "# 일별로 데이터 수집을 수행하고 수집한 데이터를 저장해주는 함수 생성\n",
    "def daily_coastal_activity_crawling(type_name = None, start_date = None, end_date = None, PATH = None, file_name = None):\n",
    "\n",
    "    '''\n",
    "    Function Description\n",
    "    --------------------------------------------------------------------------------------------------------\n",
    "    type_name : '광역시도별', '관할서별' 중에서 하나를 입력해주면 됩니다.\n",
    "    \n",
    "    start_date : 데이터를 수집할 시작 일자를 지정해주면 됩니다.(ex: '2017-01-01')\n",
    "    \n",
    "    end_date : 데이터를 수집할 마지막 일자를 지정해주면 됩니다.(ex: '2017-12-31')\n",
    "    \n",
    "    PATH : 데이터를 저장할 경로를 입력해주면 됩니다.(ex: './data')\n",
    "    \n",
    "    file_name : 저장할 데이터의 이름을 확장자명을 포함해 입력해주면 됩니다.(ex: '일별 데이터.csv')\n",
    "\n",
    "    Caution\n",
    "    --------------------------------------------------------------------------------------------------------\n",
    "    chromedriver.exe 파일은 현재 파이썬 코드가 실행되는 위치에 저장이 되어있어야 합니다.\n",
    "    \n",
    "    [버전 일치 문제 발생시 참고 사이트]\n",
    "    https://blog.naver.com/kiddwannabe/221539689821\n",
    "    '''\n",
    "    #---------------------------------------------------------------------------------------------------------------\n",
    "    # Selenium 실행 과정\n",
    "    #---------------------------------------------------------------------------------------------------------------\n",
    "    \n",
    "    # Selenium 옵션 생성\n",
    "    options = webdriver.ChromeOptions()\n",
    "    \n",
    "    # 크롬 창을 생성하지 않고 수행할 수 있는 옵션 지정\n",
    "    options.add_argument('headless')\n",
    "    \n",
    "    # Chrome Driver 수행\n",
    "    driver = webdriver.Chrome(executable_path = './chromedriver.exe', options = options)\n",
    "    \n",
    "    # 연안체험활동 종합정보 - 연안안전정보 - 연안사고통계 홈페이지\n",
    "    driver.get('https://imsm.kcg.go.kr/CSMS/main/sta/StaSttusRB.do')\n",
    "    time.sleep(1)\n",
    "    \n",
    "    #---------------------------------------------------------------------------------------------------------------\n",
    "    # 데이터 수집 과정\n",
    "    #---------------------------------------------------------------------------------------------------------------\n",
    "    try:\n",
    "        # '통계 유형' 선택\n",
    "        select = Select(driver.find_element_by_id('searchCondition'))\n",
    "        select.select_by_visible_text('{}'.format(type_name))\n",
    "\n",
    "        # 사용자가 지정한 시작날짜와 마지막날짜까지의 기간을 '%Y-%m-%d' 타입의 문자열로 저장\n",
    "        date_list = [date.strftime('%Y-%m-%d') for date in pd.date_range(start = start_date, end = end_date).tolist()]\n",
    "        print('총 데이터 수집 건 수:', len(date_list))\n",
    "\n",
    "        # 최종 데이터를 반환하기 위한 DataFrame 객체 생성\n",
    "        return_data = pd.DataFrame()\n",
    "\n",
    "        # 변수명을 저장하기 위한 리스트 객체 생성\n",
    "        column_list = []\n",
    "\n",
    "        # '일자'를 변경해가면서 데이터 수집\n",
    "        for first_index, date in tqdm_notebook(enumerate(date_list), desc = '데이터 수집 과정 진행 상태'):\n",
    "\n",
    "            # '일자(발생일 기준)' 선택하기 위해 처음 위치와 마지막 위치를 객체로 저장\n",
    "            start_box = driver.find_element_by_id('searchKeywordFrom')\n",
    "            end_box = driver.find_element_by_id('searchKeywordTo')\n",
    "            \n",
    "            # 값 입력\n",
    "            start_box.send_keys(date)\n",
    "            end_box.send_keys(date)\n",
    "            \n",
    "            # '검색' 버튼 클릭\n",
    "            element = driver.find_element_by_xpath('//*[@id=\"staSttus\"]/section/div[2]/table/tbody/tr[2]/td/div/button')\n",
    "            element.click()\n",
    "            time.sleep(1)\n",
    "\n",
    "            # 화면에 출력된 페이지 소스 저장\n",
    "            source = driver.page_source\n",
    "            soup = BeautifulSoup(source, 'html.parser')\n",
    "\n",
    "            # 추출하고자 하는 정보들은 <tbody id=\"acdntList\"> 태그의 아래 <tr> 태그에 포함되어 있다.\n",
    "            # <tr> 태그 중에서 class 속성을 가지고 있는 <tr class=\"aliceBlue\"> 태그는 값들의 '변수명'을 나타낸다.\n",
    "            # 변수명은 한 번만 저장하면 되므로 처음 검색하는 데이터에서만 추출하도록 하자.\n",
    "\n",
    "            if first_index == 0:\n",
    "                for column_value in [td_tag.get_text().strip() for td_tag in soup.find('tr', class_ = 'aliceBlue').find_all('td')]:\n",
    "                    column_list.append(column_value)\n",
    "\n",
    "            value_list = []\n",
    "\n",
    "            # 다음으로 변수명에 해당되는 값들을 추출하도록 하자.\n",
    "            for second_index, tag in enumerate(soup.select('#acdntList > tr')):\n",
    "\n",
    "                # 인덱스가 0인 경우에는 변수명에 해당되므로 해당 값을 제외하고 추출하도록 한다.\n",
    "                if second_index != 0:\n",
    "                    value_list.append([td_tag.get_text().strip() for td_tag in tag.find_all('td')])\n",
    "\n",
    "            # 일별로 수집한 데이터를 DataFrame으로 저장\n",
    "            daily_data = pd.DataFrame(data = value_list, columns = column_list).drop('활동인원', axis = 1)\n",
    "\n",
    "            # '날짜' 변수를 추가\n",
    "            daily_data['날짜'] = date\n",
    "\n",
    "            # 일자를 변경해가면서 반환할 데이터에 병합\n",
    "            return_data = return_data.append(daily_data)\n",
    "            \n",
    "            # 해당 날자의 데이터 수집을 마친 후, '일자(발생일 기준)' 부분에 입력된 값을 지워줘야 한다.\n",
    "            start_box.clear()\n",
    "            end_box.clear()\n",
    "            time.sleep(0.5)\n",
    "\n",
    "        # '날짜' 변수를 맨 앞으로 지정해주기\n",
    "        columns = return_data.columns.tolist()\n",
    "        tmp = columns[-1]\n",
    "        del columns[-1]\n",
    "        columns.insert(0, tmp)\n",
    "\n",
    "        return_data = return_data[columns]\n",
    "        return_data.reset_index(drop = True, inplace = True)\n",
    "\n",
    "        # Chrome Driver 종료\n",
    "        driver.close()\n",
    "    \n",
    "    # 데이터 수집 과정에서 오류가 발생하는 경우 Chrome Driver 종료\n",
    "    except:\n",
    "        driver.close()\n",
    "    \n",
    "    #---------------------------------------------------------------------------------------------------------------\n",
    "    # 데이터 저장 과정\n",
    "    #---------------------------------------------------------------------------------------------------------------\n",
    "    return_data.to_csv(PATH + '/' + file_name, encoding = 'CP949', index = False)\n",
    "    \n",
    "    return return_data"
   ]
  },
  {
   "cell_type": "code",
   "execution_count": 3,
   "id": "e6e8c559-41fb-4fbf-b293-1bc1effc02a5",
   "metadata": {},
   "outputs": [
    {
     "name": "stdout",
     "output_type": "stream",
     "text": [
      "총 데이터 수집 건 수: 4291\n"
     ]
    },
    {
     "data": {
      "application/vnd.jupyter.widget-view+json": {
       "model_id": "2a721b56a48f473184bd4838e4ad5cc8",
       "version_major": 2,
       "version_minor": 0
      },
      "text/plain": [
       "데이터 수집 과정 진행 상태: 0it [00:00, ?it/s]"
      ]
     },
     "metadata": {},
     "output_type": "display_data"
    }
   ],
   "source": [
    "data = daily_coastal_activity_crawling(type_name = '광역시도별', start_date = '2010-01-01', end_date = '2021-09-30',\n",
    "                                       PATH = 'C:/Users/KCG/Desktop/[목록등록관리]_업데이트 데이터/1. 연안사고 및 연안체험활동/Daily Data Crawling',\n",
    "                                       file_name = '해양경찰청_광역시도별 연안체험활동 활동인원 상세.csv')"
   ]
  }
 ],
 "metadata": {
  "kernelspec": {
   "display_name": "Python 3 (ipykernel)",
   "language": "python",
   "name": "python3"
  },
  "language_info": {
   "codemirror_mode": {
    "name": "ipython",
    "version": 3
   },
   "file_extension": ".py",
   "mimetype": "text/x-python",
   "name": "python",
   "nbconvert_exporter": "python",
   "pygments_lexer": "ipython3",
   "version": "3.9.9"
  }
 },
 "nbformat": 4,
 "nbformat_minor": 5
}
