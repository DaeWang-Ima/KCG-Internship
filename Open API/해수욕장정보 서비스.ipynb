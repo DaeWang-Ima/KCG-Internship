{
 "cells": [
  {
   "cell_type": "code",
   "execution_count": 1,
   "id": "3d027ae7-e020-4363-9c06-0dc8a8412b02",
   "metadata": {},
   "outputs": [],
   "source": [
    "import os\n",
    "import re\n",
    "import requests\n",
    "import time\n",
    "\n",
    "import pandas as pd\n",
    "import numpy as np\n",
    "\n",
    "from tqdm import tqdm_notebook\n",
    "from bs4 import BeautifulSoup\n",
    "\n",
    "import warnings\n",
    "warnings.filterwarnings(action = 'ignore')"
   ]
  },
  {
   "cell_type": "code",
   "execution_count": 64,
   "id": "c5247c53-643d-4bda-8b7b-58b5e2b1f364",
   "metadata": {},
   "outputs": [],
   "source": [
    "# Open API 수집을 위한 ServiceKey 불러오기\n",
    "with open('ServiceKey.txt', 'r') as file:\n",
    "    service_key = file.read()"
   ]
  },
  {
   "cell_type": "code",
   "execution_count": 66,
   "id": "b6bdf771-0c7f-4930-9026-9701b39d1a83",
   "metadata": {},
   "outputs": [
    {
     "data": {
      "application/vnd.jupyter.widget-view+json": {
       "model_id": "e87b0588ef4d4344a1cf4e8405f7d38e",
       "version_major": 2,
       "version_minor": 0
      },
      "text/plain": [
       "해수욕장정보 서비스 데이터 수집:   0%|          | 0/10 [00:00<?, ?it/s]"
      ]
     },
     "metadata": {},
     "output_type": "display_data"
    }
   ],
   "source": [
    "# 시도명을 직접 입력하여 정보를 수집해야하므로, 시도명을 나타내는 리스트 객체 생성\n",
    "sido_list = ['인천', '강원', '경남', '경북', '부산', '울산', '전남', '전북', '충남', '제주']\n",
    "\n",
    "# 해수욕장정보 서비스 Open API URL\n",
    "# 모든 시도명에 해수욕장이 100개 이하이므로, 모든 자료를 불러오기 위해 'numOfRows=100' 으로 지정해주었다.\n",
    "URL = 'http://apis.data.go.kr/1192000/service/OceansBeachInfoService1/getOceansBeachInfo1?&numOfRows=100&ServiceKey={}'.format(service_key)\n",
    "\n",
    "# 시도명, 명칭, 경도, 위도 데이터를 수집하기 위한 리스트 객체 생성\n",
    "시도명 = []\n",
    "명칭 = []\n",
    "경도 = []\n",
    "위도 = []\n",
    "\n",
    "# 시도명을 반복하며 데이터 수집\n",
    "for name in tqdm_notebook(sido_list, desc = '해수욕장정보 서비스 데이터 수집'):\n",
    "    \n",
    "    URL = URL + '&SIDO_NM={}'.format(name)\n",
    "    \n",
    "    html = requests.get(URL)\n",
    "    soup = BeautifulSoup(html.content, 'html.parser')\n",
    "    \n",
    "    # 각 정보에 해당되는 태그를 찾아 리스트에 저장\n",
    "    시도명.append([value.get_text().strip() for value in soup.find_all('sidonm')])\n",
    "    명칭.append([value.get_text().strip() for value in soup.find_all('stanm')])\n",
    "    경도.append([float(value.get_text().strip()) for value in soup.find_all('lon')])\n",
    "    위도.append([float(value.get_text().strip()) for value in soup.find_all('lat')])\n",
    "    \n",
    "    time.sleep(5)"
   ]
  },
  {
   "cell_type": "code",
   "execution_count": 67,
   "id": "cb5af932-d4ae-4e01-8b0b-41f3aae3a774",
   "metadata": {},
   "outputs": [
    {
     "name": "stdout",
     "output_type": "stream",
     "text": [
      "['인천', '인천', '인천', '인천', '인천'] \n",
      "\n",
      "['대빈창', '동막', '민머루', '조개골', '구리동'] \n",
      "\n",
      "[126.22844, 126.458791, 126.333573, 126.199815, 125.685328] \n",
      "\n",
      "[37.646383, 37.592434, 37.651038, 37.658272, 37.667963]\n"
     ]
    }
   ],
   "source": [
    "# 수집된 정보들이 2차원 리스트 구조이기 때문에 1차원 구조로 변경해주어야 한다.\n",
    "시도명 = sum(시도명, [])\n",
    "명칭 = sum(명칭, [])\n",
    "경도 = sum(경도, [])\n",
    "위도 = sum(위도, [])\n",
    "\n",
    "# 수집한 데이터 일부 확인\n",
    "print(시도명[:5], '\\n')\n",
    "print(명칭[:5], '\\n')\n",
    "print(경도[:5], '\\n')\n",
    "print(위도[:5])"
   ]
  },
  {
   "cell_type": "code",
   "execution_count": 68,
   "id": "8f1dd2b8-6ba8-416a-a0dc-0313d5bcd835",
   "metadata": {
    "tags": []
   },
   "outputs": [
    {
     "data": {
      "text/html": [
       "<div>\n",
       "<style scoped>\n",
       "    .dataframe tbody tr th:only-of-type {\n",
       "        vertical-align: middle;\n",
       "    }\n",
       "\n",
       "    .dataframe tbody tr th {\n",
       "        vertical-align: top;\n",
       "    }\n",
       "\n",
       "    .dataframe thead th {\n",
       "        text-align: right;\n",
       "    }\n",
       "</style>\n",
       "<table border=\"1\" class=\"dataframe\">\n",
       "  <thead>\n",
       "    <tr style=\"text-align: right;\">\n",
       "      <th></th>\n",
       "      <th>시도명</th>\n",
       "      <th>명칭</th>\n",
       "      <th>경도</th>\n",
       "      <th>위도</th>\n",
       "    </tr>\n",
       "  </thead>\n",
       "  <tbody>\n",
       "    <tr>\n",
       "      <th>0</th>\n",
       "      <td>인천</td>\n",
       "      <td>대빈창</td>\n",
       "      <td>126.228440</td>\n",
       "      <td>37.646383</td>\n",
       "    </tr>\n",
       "    <tr>\n",
       "      <th>1</th>\n",
       "      <td>인천</td>\n",
       "      <td>동막</td>\n",
       "      <td>126.458791</td>\n",
       "      <td>37.592434</td>\n",
       "    </tr>\n",
       "    <tr>\n",
       "      <th>2</th>\n",
       "      <td>인천</td>\n",
       "      <td>민머루</td>\n",
       "      <td>126.333573</td>\n",
       "      <td>37.651038</td>\n",
       "    </tr>\n",
       "    <tr>\n",
       "      <th>3</th>\n",
       "      <td>인천</td>\n",
       "      <td>조개골</td>\n",
       "      <td>126.199815</td>\n",
       "      <td>37.658272</td>\n",
       "    </tr>\n",
       "    <tr>\n",
       "      <th>4</th>\n",
       "      <td>인천</td>\n",
       "      <td>구리동</td>\n",
       "      <td>125.685328</td>\n",
       "      <td>37.667963</td>\n",
       "    </tr>\n",
       "  </tbody>\n",
       "</table>\n",
       "</div>"
      ],
      "text/plain": [
       "  시도명   명칭          경도         위도\n",
       "0  인천  대빈창  126.228440  37.646383\n",
       "1  인천   동막  126.458791  37.592434\n",
       "2  인천  민머루  126.333573  37.651038\n",
       "3  인천  조개골  126.199815  37.658272\n",
       "4  인천  구리동  125.685328  37.667963"
      ]
     },
     "metadata": {},
     "output_type": "display_data"
    }
   ],
   "source": [
    "# 수집한 데이터를 DataFrame으로 저장\n",
    "beach_information = pd.DataFrame({'시도명' : 시도명, '명칭' : 명칭, '경도' : 경도, '위도' : 위도})\n",
    "\n",
    "# 데이터 일부 확인\n",
    "display(beach_information.head())"
   ]
  },
  {
   "cell_type": "markdown",
   "id": "e708596a-0815-47c6-96d6-4e7909dd25b9",
   "metadata": {},
   "source": [
    "```python\n",
    "beach_information.to_csv('./Data/해수욕장정보 서비스.csv', encoding = 'CP949', index = False)\n",
    "```"
   ]
  }
 ],
 "metadata": {
  "kernelspec": {
   "display_name": "Python 3 (ipykernel)",
   "language": "python",
   "name": "python3"
  },
  "language_info": {
   "codemirror_mode": {
    "name": "ipython",
    "version": 3
   },
   "file_extension": ".py",
   "mimetype": "text/x-python",
   "name": "python",
   "nbconvert_exporter": "python",
   "pygments_lexer": "ipython3",
   "version": "3.9.9"
  }
 },
 "nbformat": 4,
 "nbformat_minor": 5
}
