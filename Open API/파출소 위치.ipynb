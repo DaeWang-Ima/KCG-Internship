{
 "cells": [
  {
   "cell_type": "code",
   "execution_count": 12,
   "id": "0fc9b46c-d8e3-4bce-a703-c118ff084057",
   "metadata": {},
   "outputs": [],
   "source": [
    "import os\n",
    "import re\n",
    "import requests\n",
    "import time\n",
    "\n",
    "import pandas as pd\n",
    "import numpy as np\n",
    "\n",
    "from tqdm import tqdm_notebook\n",
    "from bs4 import BeautifulSoup\n",
    "\n",
    "import warnings\n",
    "warnings.filterwarnings(action = 'ignore')"
   ]
  },
  {
   "cell_type": "code",
   "execution_count": 10,
   "id": "ac05ad48-ac66-4924-8641-e074160f6009",
   "metadata": {},
   "outputs": [],
   "source": [
    "# Open API 수집을 위한 ServiceKey 불러오기\n",
    "with open('ServiceKey.txt', 'r') as file:\n",
    "    service_key = file.read()"
   ]
  },
  {
   "cell_type": "code",
   "execution_count": 14,
   "id": "8f558761-4eed-439c-aa04-094310e67ddd",
   "metadata": {},
   "outputs": [],
   "source": [
    "# 파출소 위치 Open API URL\n",
    "# 현재 파출소 위치가 97개이므로 모든 자료를 불러오기 위해 'rowsCount=100'으로 지정해주었다.\n",
    "URL = 'http://apis.data.go.kr/1532000/KCG_Station_Position/list_view?serviceKey={}&rowsCount=100'.format(service_key)\n",
    "\n",
    "html = requests.get(URL)\n",
    "soup = BeautifulSoup(html.content, 'html.parser')"
   ]
  },
  {
   "cell_type": "code",
   "execution_count": 24,
   "id": "82e75278-03dd-43d1-8b84-286f769c7c22",
   "metadata": {},
   "outputs": [
    {
     "name": "stdout",
     "output_type": "stream",
     "text": [
      "['감천파출소', '감포파출소', '강구파출소', '강동파출소', '강릉파출소'] \n",
      "\n",
      "[129.0005581, 129.505941, 129.390191, 128.9189368, 128.951389] \n",
      "\n",
      "[35.08440914, 35.80912733, 36.35919371, 37.79362696, 37.763097]\n"
     ]
    }
   ],
   "source": [
    "# 명칭, 경도, 위도 데이터 수집\n",
    "명칭 = [value.get_text().strip() for value in soup.find_all('c_myeongching')]\n",
    "경도 = [float(value.get_text().strip()) for value in soup.find_all('c_kyeongdo')]\n",
    "위도 = [float(value.get_text().strip()) for value in soup.find_all('c_wido')]\n",
    "\n",
    "# 수집한 데이터 일부 확인\n",
    "print(명칭[:5], '\\n')\n",
    "print(경도[:5], '\\n')\n",
    "print(위도[:5])"
   ]
  },
  {
   "cell_type": "code",
   "execution_count": 26,
   "id": "846d287e-ac87-4290-b7cf-ca70fcd4f201",
   "metadata": {},
   "outputs": [
    {
     "data": {
      "text/html": [
       "<div>\n",
       "<style scoped>\n",
       "    .dataframe tbody tr th:only-of-type {\n",
       "        vertical-align: middle;\n",
       "    }\n",
       "\n",
       "    .dataframe tbody tr th {\n",
       "        vertical-align: top;\n",
       "    }\n",
       "\n",
       "    .dataframe thead th {\n",
       "        text-align: right;\n",
       "    }\n",
       "</style>\n",
       "<table border=\"1\" class=\"dataframe\">\n",
       "  <thead>\n",
       "    <tr style=\"text-align: right;\">\n",
       "      <th></th>\n",
       "      <th>명칭</th>\n",
       "      <th>경도</th>\n",
       "      <th>위도</th>\n",
       "    </tr>\n",
       "  </thead>\n",
       "  <tbody>\n",
       "    <tr>\n",
       "      <th>0</th>\n",
       "      <td>감천파출소</td>\n",
       "      <td>129.000558</td>\n",
       "      <td>35.084409</td>\n",
       "    </tr>\n",
       "    <tr>\n",
       "      <th>1</th>\n",
       "      <td>감포파출소</td>\n",
       "      <td>129.505941</td>\n",
       "      <td>35.809127</td>\n",
       "    </tr>\n",
       "    <tr>\n",
       "      <th>2</th>\n",
       "      <td>강구파출소</td>\n",
       "      <td>129.390191</td>\n",
       "      <td>36.359194</td>\n",
       "    </tr>\n",
       "    <tr>\n",
       "      <th>3</th>\n",
       "      <td>강동파출소</td>\n",
       "      <td>128.918937</td>\n",
       "      <td>37.793627</td>\n",
       "    </tr>\n",
       "    <tr>\n",
       "      <th>4</th>\n",
       "      <td>강릉파출소</td>\n",
       "      <td>128.951389</td>\n",
       "      <td>37.763097</td>\n",
       "    </tr>\n",
       "  </tbody>\n",
       "</table>\n",
       "</div>"
      ],
      "text/plain": [
       "      명칭          경도         위도\n",
       "0  감천파출소  129.000558  35.084409\n",
       "1  감포파출소  129.505941  35.809127\n",
       "2  강구파출소  129.390191  36.359194\n",
       "3  강동파출소  128.918937  37.793627\n",
       "4  강릉파출소  128.951389  37.763097"
      ]
     },
     "execution_count": 26,
     "metadata": {},
     "output_type": "execute_result"
    }
   ],
   "source": [
    "# 수집한 데이터를 DataFrame으로 저장\n",
    "police_location = pd.DataFrame({'명칭' : 명칭, '경도' : 경도, '위도' : 위도})\n",
    "\n",
    "# 데이터 일부 확인\n",
    "display(police_location.head())"
   ]
  },
  {
   "cell_type": "markdown",
   "id": "539ae94a-62d7-4cd0-be6c-b7508d856c22",
   "metadata": {},
   "source": [
    "```python\n",
    "police_location.to_csv('./Data/파출소 위치.csv', encoding = 'CP949', index = False)\n",
    "```"
   ]
  }
 ],
 "metadata": {
  "kernelspec": {
   "display_name": "Python 3 (ipykernel)",
   "language": "python",
   "name": "python3"
  },
  "language_info": {
   "codemirror_mode": {
    "name": "ipython",
    "version": 3
   },
   "file_extension": ".py",
   "mimetype": "text/x-python",
   "name": "python",
   "nbconvert_exporter": "python",
   "pygments_lexer": "ipython3",
   "version": "3.9.9"
  }
 },
 "nbformat": 4,
 "nbformat_minor": 5
}
